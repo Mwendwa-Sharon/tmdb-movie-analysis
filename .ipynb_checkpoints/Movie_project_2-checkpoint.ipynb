{
 "cells": [
  {
   "cell_type": "markdown",
   "id": "c0f7eddf",
   "metadata": {
    "id": "c0f7eddf"
   },
   "source": [
    "# INTRODUCTION\n",
    "-- This dataset contains information about movies. The information is drawn from The Movie Database (TMDb).\n",
    "-- This data is very important to production companies and movie enthusiasts."
   ]
  },
  {
   "cell_type": "markdown",
   "id": "7f2dc325",
   "metadata": {
    "id": "7f2dc325"
   },
   "source": [
    "## QUESTIONS \n",
    "1. How long do most movies last?\n",
    "2. Are longer movies more popular or less popular?\n",
    "3. In which year was the highest movie revenue realised?\n",
    "4. The top 10 highest budget movies\n",
    "5. The top 10 highest revenue movies\n",
    "6. How does the popularity of a movie relate with its revenue\n",
    "7. Do high budget movies also generate high revenue?\n",
    "8. What are the most produced genres?\n",
    "9. Which combination of genres produces the highest revenue?\n",
    "10. Which combination of genres is the most popular?"
   ]
  },
  {
   "cell_type": "code",
   "execution_count": 1,
   "id": "74553538",
   "metadata": {
    "id": "74553538"
   },
   "outputs": [],
   "source": [
    "# Importing the necessary libraries\n",
    "\n",
    "import pandas as pd\n",
    "import numpy as np\n",
    "import matplotlib.pyplot as plt\n",
    "import seaborn as sns\n",
    "%matplotlib inline\n",
    "from collections import Counter # is for counting hashable objects.\n",
    "from wordcloud import WordCloud # is for visualizing keywords in a nice way.\n",
    "from scipy.stats.stats import pearsonr"
   ]
  },
  {
   "cell_type": "code",
   "execution_count": 2,
   "id": "337708ea",
   "metadata": {
    "colab": {
     "base_uri": "https://localhost:8080/",
     "height": 699
    },
    "id": "337708ea",
    "outputId": "0994887a-49bb-46b1-a604-867a49ac0333",
    "scrolled": true
   },
   "outputs": [
    {
     "data": {
      "text/html": [
       "<div>\n",
       "<style scoped>\n",
       "    .dataframe tbody tr th:only-of-type {\n",
       "        vertical-align: middle;\n",
       "    }\n",
       "\n",
       "    .dataframe tbody tr th {\n",
       "        vertical-align: top;\n",
       "    }\n",
       "\n",
       "    .dataframe thead th {\n",
       "        text-align: right;\n",
       "    }\n",
       "</style>\n",
       "<table border=\"1\" class=\"dataframe\">\n",
       "  <thead>\n",
       "    <tr style=\"text-align: right;\">\n",
       "      <th></th>\n",
       "      <th>id</th>\n",
       "      <th>imdb_id</th>\n",
       "      <th>popularity</th>\n",
       "      <th>budget</th>\n",
       "      <th>revenue</th>\n",
       "      <th>original_title</th>\n",
       "      <th>cast</th>\n",
       "      <th>homepage</th>\n",
       "      <th>director</th>\n",
       "      <th>tagline</th>\n",
       "      <th>...</th>\n",
       "      <th>overview</th>\n",
       "      <th>runtime</th>\n",
       "      <th>genres</th>\n",
       "      <th>production_companies</th>\n",
       "      <th>release_date</th>\n",
       "      <th>vote_count</th>\n",
       "      <th>vote_average</th>\n",
       "      <th>release_year</th>\n",
       "      <th>budget_adj</th>\n",
       "      <th>revenue_adj</th>\n",
       "    </tr>\n",
       "  </thead>\n",
       "  <tbody>\n",
       "    <tr>\n",
       "      <th>0</th>\n",
       "      <td>135397</td>\n",
       "      <td>tt0369610</td>\n",
       "      <td>32.985763</td>\n",
       "      <td>150000000</td>\n",
       "      <td>1513528810</td>\n",
       "      <td>Jurassic World</td>\n",
       "      <td>Chris Pratt|Bryce Dallas Howard|Irrfan Khan|Vi...</td>\n",
       "      <td>http://www.jurassicworld.com/</td>\n",
       "      <td>Colin Trevorrow</td>\n",
       "      <td>The park is open.</td>\n",
       "      <td>...</td>\n",
       "      <td>Twenty-two years after the events of Jurassic ...</td>\n",
       "      <td>124</td>\n",
       "      <td>Action|Adventure|Science Fiction|Thriller</td>\n",
       "      <td>Universal Studios|Amblin Entertainment|Legenda...</td>\n",
       "      <td>6/9/15</td>\n",
       "      <td>5562</td>\n",
       "      <td>6.5</td>\n",
       "      <td>2015</td>\n",
       "      <td>1.379999e+08</td>\n",
       "      <td>1.392446e+09</td>\n",
       "    </tr>\n",
       "    <tr>\n",
       "      <th>1</th>\n",
       "      <td>76341</td>\n",
       "      <td>tt1392190</td>\n",
       "      <td>28.419936</td>\n",
       "      <td>150000000</td>\n",
       "      <td>378436354</td>\n",
       "      <td>Mad Max: Fury Road</td>\n",
       "      <td>Tom Hardy|Charlize Theron|Hugh Keays-Byrne|Nic...</td>\n",
       "      <td>http://www.madmaxmovie.com/</td>\n",
       "      <td>George Miller</td>\n",
       "      <td>What a Lovely Day.</td>\n",
       "      <td>...</td>\n",
       "      <td>An apocalyptic story set in the furthest reach...</td>\n",
       "      <td>120</td>\n",
       "      <td>Action|Adventure|Science Fiction|Thriller</td>\n",
       "      <td>Village Roadshow Pictures|Kennedy Miller Produ...</td>\n",
       "      <td>5/13/15</td>\n",
       "      <td>6185</td>\n",
       "      <td>7.1</td>\n",
       "      <td>2015</td>\n",
       "      <td>1.379999e+08</td>\n",
       "      <td>3.481613e+08</td>\n",
       "    </tr>\n",
       "    <tr>\n",
       "      <th>2</th>\n",
       "      <td>262500</td>\n",
       "      <td>tt2908446</td>\n",
       "      <td>13.112507</td>\n",
       "      <td>110000000</td>\n",
       "      <td>295238201</td>\n",
       "      <td>Insurgent</td>\n",
       "      <td>Shailene Woodley|Theo James|Kate Winslet|Ansel...</td>\n",
       "      <td>http://www.thedivergentseries.movie/#insurgent</td>\n",
       "      <td>Robert Schwentke</td>\n",
       "      <td>One Choice Can Destroy You</td>\n",
       "      <td>...</td>\n",
       "      <td>Beatrice Prior must confront her inner demons ...</td>\n",
       "      <td>119</td>\n",
       "      <td>Adventure|Science Fiction|Thriller</td>\n",
       "      <td>Summit Entertainment|Mandeville Films|Red Wago...</td>\n",
       "      <td>3/18/15</td>\n",
       "      <td>2480</td>\n",
       "      <td>6.3</td>\n",
       "      <td>2015</td>\n",
       "      <td>1.012000e+08</td>\n",
       "      <td>2.716190e+08</td>\n",
       "    </tr>\n",
       "    <tr>\n",
       "      <th>3</th>\n",
       "      <td>140607</td>\n",
       "      <td>tt2488496</td>\n",
       "      <td>11.173104</td>\n",
       "      <td>200000000</td>\n",
       "      <td>2068178225</td>\n",
       "      <td>Star Wars: The Force Awakens</td>\n",
       "      <td>Harrison Ford|Mark Hamill|Carrie Fisher|Adam D...</td>\n",
       "      <td>http://www.starwars.com/films/star-wars-episod...</td>\n",
       "      <td>J.J. Abrams</td>\n",
       "      <td>Every generation has a story.</td>\n",
       "      <td>...</td>\n",
       "      <td>Thirty years after defeating the Galactic Empi...</td>\n",
       "      <td>136</td>\n",
       "      <td>Action|Adventure|Science Fiction|Fantasy</td>\n",
       "      <td>Lucasfilm|Truenorth Productions|Bad Robot</td>\n",
       "      <td>12/15/15</td>\n",
       "      <td>5292</td>\n",
       "      <td>7.5</td>\n",
       "      <td>2015</td>\n",
       "      <td>1.839999e+08</td>\n",
       "      <td>1.902723e+09</td>\n",
       "    </tr>\n",
       "    <tr>\n",
       "      <th>4</th>\n",
       "      <td>168259</td>\n",
       "      <td>tt2820852</td>\n",
       "      <td>9.335014</td>\n",
       "      <td>190000000</td>\n",
       "      <td>1506249360</td>\n",
       "      <td>Furious 7</td>\n",
       "      <td>Vin Diesel|Paul Walker|Jason Statham|Michelle ...</td>\n",
       "      <td>http://www.furious7.com/</td>\n",
       "      <td>James Wan</td>\n",
       "      <td>Vengeance Hits Home</td>\n",
       "      <td>...</td>\n",
       "      <td>Deckard Shaw seeks revenge against Dominic Tor...</td>\n",
       "      <td>137</td>\n",
       "      <td>Action|Crime|Thriller</td>\n",
       "      <td>Universal Pictures|Original Film|Media Rights ...</td>\n",
       "      <td>4/1/15</td>\n",
       "      <td>2947</td>\n",
       "      <td>7.3</td>\n",
       "      <td>2015</td>\n",
       "      <td>1.747999e+08</td>\n",
       "      <td>1.385749e+09</td>\n",
       "    </tr>\n",
       "  </tbody>\n",
       "</table>\n",
       "<p>5 rows × 21 columns</p>\n",
       "</div>"
      ],
      "text/plain": [
       "       id    imdb_id  popularity     budget     revenue  \\\n",
       "0  135397  tt0369610   32.985763  150000000  1513528810   \n",
       "1   76341  tt1392190   28.419936  150000000   378436354   \n",
       "2  262500  tt2908446   13.112507  110000000   295238201   \n",
       "3  140607  tt2488496   11.173104  200000000  2068178225   \n",
       "4  168259  tt2820852    9.335014  190000000  1506249360   \n",
       "\n",
       "                 original_title  \\\n",
       "0                Jurassic World   \n",
       "1            Mad Max: Fury Road   \n",
       "2                     Insurgent   \n",
       "3  Star Wars: The Force Awakens   \n",
       "4                     Furious 7   \n",
       "\n",
       "                                                cast  \\\n",
       "0  Chris Pratt|Bryce Dallas Howard|Irrfan Khan|Vi...   \n",
       "1  Tom Hardy|Charlize Theron|Hugh Keays-Byrne|Nic...   \n",
       "2  Shailene Woodley|Theo James|Kate Winslet|Ansel...   \n",
       "3  Harrison Ford|Mark Hamill|Carrie Fisher|Adam D...   \n",
       "4  Vin Diesel|Paul Walker|Jason Statham|Michelle ...   \n",
       "\n",
       "                                            homepage          director  \\\n",
       "0                      http://www.jurassicworld.com/   Colin Trevorrow   \n",
       "1                        http://www.madmaxmovie.com/     George Miller   \n",
       "2     http://www.thedivergentseries.movie/#insurgent  Robert Schwentke   \n",
       "3  http://www.starwars.com/films/star-wars-episod...       J.J. Abrams   \n",
       "4                           http://www.furious7.com/         James Wan   \n",
       "\n",
       "                         tagline  ...  \\\n",
       "0              The park is open.  ...   \n",
       "1             What a Lovely Day.  ...   \n",
       "2     One Choice Can Destroy You  ...   \n",
       "3  Every generation has a story.  ...   \n",
       "4            Vengeance Hits Home  ...   \n",
       "\n",
       "                                            overview runtime  \\\n",
       "0  Twenty-two years after the events of Jurassic ...     124   \n",
       "1  An apocalyptic story set in the furthest reach...     120   \n",
       "2  Beatrice Prior must confront her inner demons ...     119   \n",
       "3  Thirty years after defeating the Galactic Empi...     136   \n",
       "4  Deckard Shaw seeks revenge against Dominic Tor...     137   \n",
       "\n",
       "                                      genres  \\\n",
       "0  Action|Adventure|Science Fiction|Thriller   \n",
       "1  Action|Adventure|Science Fiction|Thriller   \n",
       "2         Adventure|Science Fiction|Thriller   \n",
       "3   Action|Adventure|Science Fiction|Fantasy   \n",
       "4                      Action|Crime|Thriller   \n",
       "\n",
       "                                production_companies release_date vote_count  \\\n",
       "0  Universal Studios|Amblin Entertainment|Legenda...       6/9/15       5562   \n",
       "1  Village Roadshow Pictures|Kennedy Miller Produ...      5/13/15       6185   \n",
       "2  Summit Entertainment|Mandeville Films|Red Wago...      3/18/15       2480   \n",
       "3          Lucasfilm|Truenorth Productions|Bad Robot     12/15/15       5292   \n",
       "4  Universal Pictures|Original Film|Media Rights ...       4/1/15       2947   \n",
       "\n",
       "   vote_average  release_year    budget_adj   revenue_adj  \n",
       "0           6.5          2015  1.379999e+08  1.392446e+09  \n",
       "1           7.1          2015  1.379999e+08  3.481613e+08  \n",
       "2           6.3          2015  1.012000e+08  2.716190e+08  \n",
       "3           7.5          2015  1.839999e+08  1.902723e+09  \n",
       "4           7.3          2015  1.747999e+08  1.385749e+09  \n",
       "\n",
       "[5 rows x 21 columns]"
      ]
     },
     "execution_count": 2,
     "metadata": {},
     "output_type": "execute_result"
    }
   ],
   "source": [
    "# Loading the dataset\n",
    "\n",
    "df_movie =pd.read_csv(\"tmdb-movies.csv\")\n",
    "# Displaying the first 5 rows of the data\n",
    "df_movie.head()"
   ]
  },
  {
   "cell_type": "markdown",
   "id": "2512d636",
   "metadata": {
    "id": "2512d636"
   },
   "source": [
    "## TO DO\n",
    "1.Do a data overview and investige the data attributes \n",
    "2.Ask questions\n",
    "3.Assess the data\n",
    "4.Clean the data(column heads, remove missing values, duplicates)\n",
    "5.Inspect the datatypes and fix the datatypes issues\n",
    "6.Explore with visuals and draw conclusions with visuals\n",
    "7.Conclude"
   ]
  },
  {
   "cell_type": "markdown",
   "id": "c750f074",
   "metadata": {
    "id": "c750f074"
   },
   "source": [
    "##### Finding out the dimension of the dataframe\n",
    "##### use the df.shape"
   ]
  },
  {
   "cell_type": "code",
   "execution_count": 3,
   "id": "bfd23ad7",
   "metadata": {
    "colab": {
     "base_uri": "https://localhost:8080/"
    },
    "id": "bfd23ad7",
    "outputId": "3cfcc0cf-1caf-4e90-f773-e51f7532b709"
   },
   "outputs": [
    {
     "data": {
      "text/plain": [
       "(10866, 21)"
      ]
     },
     "execution_count": 3,
     "metadata": {},
     "output_type": "execute_result"
    }
   ],
   "source": [
    "df_movie.shape"
   ]
  },
  {
   "cell_type": "markdown",
   "id": "2b1b8529",
   "metadata": {
    "id": "2b1b8529"
   },
   "source": [
    "#### -This movie dataset has 10866 rows and 21 columns"
   ]
  },
  {
   "cell_type": "markdown",
   "id": "1b9df454",
   "metadata": {
    "id": "1b9df454"
   },
   "source": [
    "##### Understanding the summary of the dataframe\n",
    "##### use the df.info function\n"
   ]
  },
  {
   "cell_type": "code",
   "execution_count": 4,
   "id": "b5e2ee4c",
   "metadata": {
    "colab": {
     "base_uri": "https://localhost:8080/"
    },
    "id": "b5e2ee4c",
    "outputId": "da6f20e2-ef9a-4b27-9f51-f0632fc63213",
    "scrolled": true
   },
   "outputs": [
    {
     "name": "stdout",
     "output_type": "stream",
     "text": [
      "<class 'pandas.core.frame.DataFrame'>\n",
      "RangeIndex: 10866 entries, 0 to 10865\n",
      "Data columns (total 21 columns):\n",
      " #   Column                Non-Null Count  Dtype  \n",
      "---  ------                --------------  -----  \n",
      " 0   id                    10866 non-null  int64  \n",
      " 1   imdb_id               10856 non-null  object \n",
      " 2   popularity            10866 non-null  float64\n",
      " 3   budget                10866 non-null  int64  \n",
      " 4   revenue               10866 non-null  int64  \n",
      " 5   original_title        10866 non-null  object \n",
      " 6   cast                  10790 non-null  object \n",
      " 7   homepage              2936 non-null   object \n",
      " 8   director              10822 non-null  object \n",
      " 9   tagline               8042 non-null   object \n",
      " 10  keywords              9373 non-null   object \n",
      " 11  overview              10862 non-null  object \n",
      " 12  runtime               10866 non-null  int64  \n",
      " 13  genres                10843 non-null  object \n",
      " 14  production_companies  9836 non-null   object \n",
      " 15  release_date          10866 non-null  object \n",
      " 16  vote_count            10866 non-null  int64  \n",
      " 17  vote_average          10866 non-null  float64\n",
      " 18  release_year          10866 non-null  int64  \n",
      " 19  budget_adj            10866 non-null  float64\n",
      " 20  revenue_adj           10866 non-null  float64\n",
      "dtypes: float64(4), int64(6), object(11)\n",
      "memory usage: 1.7+ MB\n"
     ]
    }
   ],
   "source": [
    "df_movie.info()"
   ]
  },
  {
   "cell_type": "markdown",
   "id": "94bc8fac",
   "metadata": {
    "id": "94bc8fac"
   },
   "source": [
    "- This df has 6 integer datatypes, 4 floats and 11 object datatypes\n",
    "- There are 10866 rows. \n",
    "- imdb_id, cast, homepage, director, tagline, keywords, overview, genres, production companies have some missing values."
   ]
  },
  {
   "cell_type": "markdown",
   "id": "faddb8ea",
   "metadata": {
    "id": "faddb8ea"
   },
   "source": [
    "# DATA CLEANING"
   ]
  },
  {
   "cell_type": "markdown",
   "id": "246b8665",
   "metadata": {
    "id": "246b8665"
   },
   "source": [
    "##### -- There are columns which are not needed in the analysis. Dropping these columns will not affect our analysis. \n",
    "##### -- These columns include: homepage overview, release_date, tagline, keywords"
   ]
  },
  {
   "cell_type": "code",
   "execution_count": 5,
   "id": "e23879c3",
   "metadata": {
    "colab": {
     "base_uri": "https://localhost:8080/",
     "height": 548
    },
    "id": "e23879c3",
    "outputId": "8e686028-7dba-4a99-a6c7-66aefb1cdeb3",
    "scrolled": true
   },
   "outputs": [
    {
     "data": {
      "text/html": [
       "<div>\n",
       "<style scoped>\n",
       "    .dataframe tbody tr th:only-of-type {\n",
       "        vertical-align: middle;\n",
       "    }\n",
       "\n",
       "    .dataframe tbody tr th {\n",
       "        vertical-align: top;\n",
       "    }\n",
       "\n",
       "    .dataframe thead th {\n",
       "        text-align: right;\n",
       "    }\n",
       "</style>\n",
       "<table border=\"1\" class=\"dataframe\">\n",
       "  <thead>\n",
       "    <tr style=\"text-align: right;\">\n",
       "      <th></th>\n",
       "      <th>imdb_id</th>\n",
       "      <th>popularity</th>\n",
       "      <th>budget</th>\n",
       "      <th>revenue</th>\n",
       "      <th>original_title</th>\n",
       "      <th>cast</th>\n",
       "      <th>director</th>\n",
       "      <th>runtime</th>\n",
       "      <th>genres</th>\n",
       "      <th>production_companies</th>\n",
       "      <th>vote_count</th>\n",
       "      <th>vote_average</th>\n",
       "      <th>release_year</th>\n",
       "      <th>budget_adj</th>\n",
       "      <th>revenue_adj</th>\n",
       "    </tr>\n",
       "  </thead>\n",
       "  <tbody>\n",
       "    <tr>\n",
       "      <th>0</th>\n",
       "      <td>tt0369610</td>\n",
       "      <td>32.985763</td>\n",
       "      <td>150000000</td>\n",
       "      <td>1513528810</td>\n",
       "      <td>Jurassic World</td>\n",
       "      <td>Chris Pratt|Bryce Dallas Howard|Irrfan Khan|Vi...</td>\n",
       "      <td>Colin Trevorrow</td>\n",
       "      <td>124</td>\n",
       "      <td>Action|Adventure|Science Fiction|Thriller</td>\n",
       "      <td>Universal Studios|Amblin Entertainment|Legenda...</td>\n",
       "      <td>5562</td>\n",
       "      <td>6.5</td>\n",
       "      <td>2015</td>\n",
       "      <td>1.379999e+08</td>\n",
       "      <td>1.392446e+09</td>\n",
       "    </tr>\n",
       "    <tr>\n",
       "      <th>1</th>\n",
       "      <td>tt1392190</td>\n",
       "      <td>28.419936</td>\n",
       "      <td>150000000</td>\n",
       "      <td>378436354</td>\n",
       "      <td>Mad Max: Fury Road</td>\n",
       "      <td>Tom Hardy|Charlize Theron|Hugh Keays-Byrne|Nic...</td>\n",
       "      <td>George Miller</td>\n",
       "      <td>120</td>\n",
       "      <td>Action|Adventure|Science Fiction|Thriller</td>\n",
       "      <td>Village Roadshow Pictures|Kennedy Miller Produ...</td>\n",
       "      <td>6185</td>\n",
       "      <td>7.1</td>\n",
       "      <td>2015</td>\n",
       "      <td>1.379999e+08</td>\n",
       "      <td>3.481613e+08</td>\n",
       "    </tr>\n",
       "    <tr>\n",
       "      <th>2</th>\n",
       "      <td>tt2908446</td>\n",
       "      <td>13.112507</td>\n",
       "      <td>110000000</td>\n",
       "      <td>295238201</td>\n",
       "      <td>Insurgent</td>\n",
       "      <td>Shailene Woodley|Theo James|Kate Winslet|Ansel...</td>\n",
       "      <td>Robert Schwentke</td>\n",
       "      <td>119</td>\n",
       "      <td>Adventure|Science Fiction|Thriller</td>\n",
       "      <td>Summit Entertainment|Mandeville Films|Red Wago...</td>\n",
       "      <td>2480</td>\n",
       "      <td>6.3</td>\n",
       "      <td>2015</td>\n",
       "      <td>1.012000e+08</td>\n",
       "      <td>2.716190e+08</td>\n",
       "    </tr>\n",
       "    <tr>\n",
       "      <th>3</th>\n",
       "      <td>tt2488496</td>\n",
       "      <td>11.173104</td>\n",
       "      <td>200000000</td>\n",
       "      <td>2068178225</td>\n",
       "      <td>Star Wars: The Force Awakens</td>\n",
       "      <td>Harrison Ford|Mark Hamill|Carrie Fisher|Adam D...</td>\n",
       "      <td>J.J. Abrams</td>\n",
       "      <td>136</td>\n",
       "      <td>Action|Adventure|Science Fiction|Fantasy</td>\n",
       "      <td>Lucasfilm|Truenorth Productions|Bad Robot</td>\n",
       "      <td>5292</td>\n",
       "      <td>7.5</td>\n",
       "      <td>2015</td>\n",
       "      <td>1.839999e+08</td>\n",
       "      <td>1.902723e+09</td>\n",
       "    </tr>\n",
       "    <tr>\n",
       "      <th>4</th>\n",
       "      <td>tt2820852</td>\n",
       "      <td>9.335014</td>\n",
       "      <td>190000000</td>\n",
       "      <td>1506249360</td>\n",
       "      <td>Furious 7</td>\n",
       "      <td>Vin Diesel|Paul Walker|Jason Statham|Michelle ...</td>\n",
       "      <td>James Wan</td>\n",
       "      <td>137</td>\n",
       "      <td>Action|Crime|Thriller</td>\n",
       "      <td>Universal Pictures|Original Film|Media Rights ...</td>\n",
       "      <td>2947</td>\n",
       "      <td>7.3</td>\n",
       "      <td>2015</td>\n",
       "      <td>1.747999e+08</td>\n",
       "      <td>1.385749e+09</td>\n",
       "    </tr>\n",
       "  </tbody>\n",
       "</table>\n",
       "</div>"
      ],
      "text/plain": [
       "     imdb_id  popularity     budget     revenue                original_title  \\\n",
       "0  tt0369610   32.985763  150000000  1513528810                Jurassic World   \n",
       "1  tt1392190   28.419936  150000000   378436354            Mad Max: Fury Road   \n",
       "2  tt2908446   13.112507  110000000   295238201                     Insurgent   \n",
       "3  tt2488496   11.173104  200000000  2068178225  Star Wars: The Force Awakens   \n",
       "4  tt2820852    9.335014  190000000  1506249360                     Furious 7   \n",
       "\n",
       "                                                cast          director  \\\n",
       "0  Chris Pratt|Bryce Dallas Howard|Irrfan Khan|Vi...   Colin Trevorrow   \n",
       "1  Tom Hardy|Charlize Theron|Hugh Keays-Byrne|Nic...     George Miller   \n",
       "2  Shailene Woodley|Theo James|Kate Winslet|Ansel...  Robert Schwentke   \n",
       "3  Harrison Ford|Mark Hamill|Carrie Fisher|Adam D...       J.J. Abrams   \n",
       "4  Vin Diesel|Paul Walker|Jason Statham|Michelle ...         James Wan   \n",
       "\n",
       "   runtime                                     genres  \\\n",
       "0      124  Action|Adventure|Science Fiction|Thriller   \n",
       "1      120  Action|Adventure|Science Fiction|Thriller   \n",
       "2      119         Adventure|Science Fiction|Thriller   \n",
       "3      136   Action|Adventure|Science Fiction|Fantasy   \n",
       "4      137                      Action|Crime|Thriller   \n",
       "\n",
       "                                production_companies  vote_count  \\\n",
       "0  Universal Studios|Amblin Entertainment|Legenda...        5562   \n",
       "1  Village Roadshow Pictures|Kennedy Miller Produ...        6185   \n",
       "2  Summit Entertainment|Mandeville Films|Red Wago...        2480   \n",
       "3          Lucasfilm|Truenorth Productions|Bad Robot        5292   \n",
       "4  Universal Pictures|Original Film|Media Rights ...        2947   \n",
       "\n",
       "   vote_average  release_year    budget_adj   revenue_adj  \n",
       "0           6.5          2015  1.379999e+08  1.392446e+09  \n",
       "1           7.1          2015  1.379999e+08  3.481613e+08  \n",
       "2           6.3          2015  1.012000e+08  2.716190e+08  \n",
       "3           7.5          2015  1.839999e+08  1.902723e+09  \n",
       "4           7.3          2015  1.747999e+08  1.385749e+09  "
      ]
     },
     "execution_count": 5,
     "metadata": {},
     "output_type": "execute_result"
    }
   ],
   "source": [
    "df_movie.drop(['homepage', 'overview', 'tagline','release_date', 'id', 'keywords'], axis=1, inplace=True)\n",
    "\n",
    "df_movie.head()"
   ]
  },
  {
   "cell_type": "markdown",
   "id": "fe6f41db",
   "metadata": {
    "id": "fe6f41db"
   },
   "source": [
    "### Handling Missing Values\n",
    "-- Drop the rows with missing values."
   ]
  },
  {
   "cell_type": "code",
   "execution_count": 6,
   "id": "cfe067aa",
   "metadata": {
    "colab": {
     "base_uri": "https://localhost:8080/"
    },
    "id": "cfe067aa",
    "outputId": "bdfe23a1-eba2-42c6-b16e-d2fbd72015cb"
   },
   "outputs": [
    {
     "data": {
      "text/plain": [
       "imdb_id                   10\n",
       "popularity                 0\n",
       "budget                     0\n",
       "revenue                    0\n",
       "original_title             0\n",
       "cast                      76\n",
       "director                  44\n",
       "runtime                    0\n",
       "genres                    23\n",
       "production_companies    1030\n",
       "vote_count                 0\n",
       "vote_average               0\n",
       "release_year               0\n",
       "budget_adj                 0\n",
       "revenue_adj                0\n",
       "dtype: int64"
      ]
     },
     "execution_count": 6,
     "metadata": {},
     "output_type": "execute_result"
    }
   ],
   "source": [
    "# checking for missing values\n",
    "df_movie.isnull().sum()"
   ]
  },
  {
   "cell_type": "code",
   "execution_count": 7,
   "id": "2bcd91b5",
   "metadata": {
    "id": "2bcd91b5"
   },
   "outputs": [],
   "source": [
    "# Dropping the missing values\n",
    "df_movie.dropna(inplace=True)"
   ]
  },
  {
   "cell_type": "code",
   "execution_count": 8,
   "id": "24e90a02",
   "metadata": {
    "colab": {
     "base_uri": "https://localhost:8080/"
    },
    "id": "24e90a02",
    "outputId": "bf3b951f-131b-4c5e-a307-afe52d0d697d",
    "scrolled": true
   },
   "outputs": [
    {
     "data": {
      "text/plain": [
       "False"
      ]
     },
     "execution_count": 8,
     "metadata": {},
     "output_type": "execute_result"
    }
   ],
   "source": [
    "# Confirming if any column still has missing values\n",
    "df_movie.isnull().sum().any()"
   ]
  },
  {
   "cell_type": "markdown",
   "id": "b3d9f39e",
   "metadata": {
    "id": "b3d9f39e"
   },
   "source": [
    "### Handling Duplicates\n"
   ]
  },
  {
   "cell_type": "code",
   "execution_count": 9,
   "id": "164924ed",
   "metadata": {
    "colab": {
     "base_uri": "https://localhost:8080/"
    },
    "id": "164924ed",
    "outputId": "34721228-dede-4218-a712-44d4d3903917"
   },
   "outputs": [
    {
     "data": {
      "text/plain": [
       "1"
      ]
     },
     "execution_count": 9,
     "metadata": {},
     "output_type": "execute_result"
    }
   ],
   "source": [
    "# Cheking the number of duplicates\n",
    "sum(df_movie.duplicated())"
   ]
  },
  {
   "cell_type": "code",
   "execution_count": 10,
   "id": "e236e865",
   "metadata": {
    "id": "e236e865"
   },
   "outputs": [],
   "source": [
    "# Dropping the duplicates\n",
    "df_movie.drop_duplicates(inplace = True)"
   ]
  },
  {
   "cell_type": "code",
   "execution_count": 11,
   "id": "24a7a3e7",
   "metadata": {
    "colab": {
     "base_uri": "https://localhost:8080/"
    },
    "id": "24a7a3e7",
    "outputId": "d5669111-10b4-4d6c-ffb0-3585d7ea712e"
   },
   "outputs": [
    {
     "data": {
      "text/plain": [
       "False"
      ]
     },
     "execution_count": 11,
     "metadata": {},
     "output_type": "execute_result"
    }
   ],
   "source": [
    "# Confirming if any column still has duplicate values\n",
    "df_movie.duplicated().any()"
   ]
  },
  {
   "cell_type": "code",
   "execution_count": 12,
   "id": "fb309a8b",
   "metadata": {
    "colab": {
     "base_uri": "https://localhost:8080/"
    },
    "id": "fb309a8b",
    "outputId": "fe9b652f-e74f-4aaf-b875-dcbfc9d7b866",
    "scrolled": false
   },
   "outputs": [
    {
     "data": {
      "text/plain": [
       "(9770, 15)"
      ]
     },
     "execution_count": 12,
     "metadata": {},
     "output_type": "execute_result"
    }
   ],
   "source": [
    "df_movie.shape"
   ]
  },
  {
   "cell_type": "markdown",
   "id": "6fc23693",
   "metadata": {
    "id": "6fc23693"
   },
   "source": [
    "-- After dropping all the missing values and the duplicates, the dataframe has remained with 9770 rows and 16 columns"
   ]
  },
  {
   "cell_type": "markdown",
   "id": "54b11122",
   "metadata": {
    "id": "54b11122"
   },
   "source": [
    "### Inspecting datatypes"
   ]
  },
  {
   "cell_type": "code",
   "execution_count": 13,
   "id": "ddaf91eb",
   "metadata": {
    "colab": {
     "base_uri": "https://localhost:8080/"
    },
    "id": "ddaf91eb",
    "outputId": "5e683741-ae7d-4de4-bd7a-f4e553f12352"
   },
   "outputs": [
    {
     "data": {
      "text/plain": [
       "imdb_id                  object\n",
       "popularity              float64\n",
       "budget                    int64\n",
       "revenue                   int64\n",
       "original_title           object\n",
       "cast                     object\n",
       "director                 object\n",
       "runtime                   int64\n",
       "genres                   object\n",
       "production_companies     object\n",
       "vote_count                int64\n",
       "vote_average            float64\n",
       "release_year              int64\n",
       "budget_adj              float64\n",
       "revenue_adj             float64\n",
       "dtype: object"
      ]
     },
     "execution_count": 13,
     "metadata": {},
     "output_type": "execute_result"
    }
   ],
   "source": [
    "df_movie.dtypes"
   ]
  },
  {
   "cell_type": "code",
   "execution_count": 14,
   "id": "d13e04f3",
   "metadata": {
    "colab": {
     "base_uri": "https://localhost:8080/"
    },
    "id": "d13e04f3",
    "outputId": "41644702-a5b2-40f7-b402-32332095a2cb"
   },
   "outputs": [
    {
     "data": {
      "text/plain": [
       "array([1513528810,  378436354,  295238201, ...,     321952,   78000000,\n",
       "         33736689], dtype=int64)"
      ]
     },
     "execution_count": 14,
     "metadata": {},
     "output_type": "execute_result"
    }
   ],
   "source": [
    "# investigating the unique values of the revenue column\n",
    "df_movie['revenue'].unique()"
   ]
  },
  {
   "cell_type": "code",
   "execution_count": 15,
   "id": "420f6360",
   "metadata": {
    "colab": {
     "base_uri": "https://localhost:8080/",
     "height": 364
    },
    "id": "420f6360",
    "outputId": "0c6d702c-3852-4dc7-b43c-4a76380a1693"
   },
   "outputs": [
    {
     "data": {
      "text/html": [
       "<div>\n",
       "<style scoped>\n",
       "    .dataframe tbody tr th:only-of-type {\n",
       "        vertical-align: middle;\n",
       "    }\n",
       "\n",
       "    .dataframe tbody tr th {\n",
       "        vertical-align: top;\n",
       "    }\n",
       "\n",
       "    .dataframe thead th {\n",
       "        text-align: right;\n",
       "    }\n",
       "</style>\n",
       "<table border=\"1\" class=\"dataframe\">\n",
       "  <thead>\n",
       "    <tr style=\"text-align: right;\">\n",
       "      <th></th>\n",
       "      <th>popularity</th>\n",
       "      <th>budget</th>\n",
       "      <th>revenue</th>\n",
       "      <th>runtime</th>\n",
       "      <th>vote_count</th>\n",
       "      <th>vote_average</th>\n",
       "      <th>release_year</th>\n",
       "      <th>budget_adj</th>\n",
       "      <th>revenue_adj</th>\n",
       "    </tr>\n",
       "  </thead>\n",
       "  <tbody>\n",
       "    <tr>\n",
       "      <th>count</th>\n",
       "      <td>9770.000000</td>\n",
       "      <td>9.770000e+03</td>\n",
       "      <td>9.770000e+03</td>\n",
       "      <td>9770.000000</td>\n",
       "      <td>9770.000000</td>\n",
       "      <td>9770.000000</td>\n",
       "      <td>9770.000000</td>\n",
       "      <td>9.770000e+03</td>\n",
       "      <td>9.770000e+03</td>\n",
       "    </tr>\n",
       "    <tr>\n",
       "      <th>mean</th>\n",
       "      <td>0.694775</td>\n",
       "      <td>1.618298e+07</td>\n",
       "      <td>4.424026e+07</td>\n",
       "      <td>102.939611</td>\n",
       "      <td>239.353224</td>\n",
       "      <td>5.963388</td>\n",
       "      <td>2000.876766</td>\n",
       "      <td>1.941997e+07</td>\n",
       "      <td>5.706477e+07</td>\n",
       "    </tr>\n",
       "    <tr>\n",
       "      <th>std</th>\n",
       "      <td>1.037027</td>\n",
       "      <td>3.221320e+07</td>\n",
       "      <td>1.225998e+08</td>\n",
       "      <td>27.865500</td>\n",
       "      <td>603.066348</td>\n",
       "      <td>0.913207</td>\n",
       "      <td>13.037610</td>\n",
       "      <td>3.566891e+07</td>\n",
       "      <td>1.514632e+08</td>\n",
       "    </tr>\n",
       "    <tr>\n",
       "      <th>min</th>\n",
       "      <td>0.000188</td>\n",
       "      <td>0.000000e+00</td>\n",
       "      <td>0.000000e+00</td>\n",
       "      <td>0.000000</td>\n",
       "      <td>10.000000</td>\n",
       "      <td>1.500000</td>\n",
       "      <td>1960.000000</td>\n",
       "      <td>0.000000e+00</td>\n",
       "      <td>0.000000e+00</td>\n",
       "    </tr>\n",
       "    <tr>\n",
       "      <th>25%</th>\n",
       "      <td>0.232620</td>\n",
       "      <td>0.000000e+00</td>\n",
       "      <td>0.000000e+00</td>\n",
       "      <td>90.000000</td>\n",
       "      <td>18.000000</td>\n",
       "      <td>5.400000</td>\n",
       "      <td>1994.000000</td>\n",
       "      <td>0.000000e+00</td>\n",
       "      <td>0.000000e+00</td>\n",
       "    </tr>\n",
       "    <tr>\n",
       "      <th>50%</th>\n",
       "      <td>0.419762</td>\n",
       "      <td>2.000000e+05</td>\n",
       "      <td>0.000000e+00</td>\n",
       "      <td>100.000000</td>\n",
       "      <td>46.000000</td>\n",
       "      <td>6.000000</td>\n",
       "      <td>2005.000000</td>\n",
       "      <td>3.179631e+05</td>\n",
       "      <td>0.000000e+00</td>\n",
       "    </tr>\n",
       "    <tr>\n",
       "      <th>75%</th>\n",
       "      <td>0.776465</td>\n",
       "      <td>1.936250e+07</td>\n",
       "      <td>3.105779e+07</td>\n",
       "      <td>112.000000</td>\n",
       "      <td>173.000000</td>\n",
       "      <td>6.600000</td>\n",
       "      <td>2011.000000</td>\n",
       "      <td>2.467646e+07</td>\n",
       "      <td>4.312856e+07</td>\n",
       "    </tr>\n",
       "    <tr>\n",
       "      <th>max</th>\n",
       "      <td>32.985763</td>\n",
       "      <td>4.250000e+08</td>\n",
       "      <td>2.781506e+09</td>\n",
       "      <td>877.000000</td>\n",
       "      <td>9767.000000</td>\n",
       "      <td>8.700000</td>\n",
       "      <td>2015.000000</td>\n",
       "      <td>4.250000e+08</td>\n",
       "      <td>2.827124e+09</td>\n",
       "    </tr>\n",
       "  </tbody>\n",
       "</table>\n",
       "</div>"
      ],
      "text/plain": [
       "        popularity        budget       revenue      runtime   vote_count  \\\n",
       "count  9770.000000  9.770000e+03  9.770000e+03  9770.000000  9770.000000   \n",
       "mean      0.694775  1.618298e+07  4.424026e+07   102.939611   239.353224   \n",
       "std       1.037027  3.221320e+07  1.225998e+08    27.865500   603.066348   \n",
       "min       0.000188  0.000000e+00  0.000000e+00     0.000000    10.000000   \n",
       "25%       0.232620  0.000000e+00  0.000000e+00    90.000000    18.000000   \n",
       "50%       0.419762  2.000000e+05  0.000000e+00   100.000000    46.000000   \n",
       "75%       0.776465  1.936250e+07  3.105779e+07   112.000000   173.000000   \n",
       "max      32.985763  4.250000e+08  2.781506e+09   877.000000  9767.000000   \n",
       "\n",
       "       vote_average  release_year    budget_adj   revenue_adj  \n",
       "count   9770.000000   9770.000000  9.770000e+03  9.770000e+03  \n",
       "mean       5.963388   2000.876766  1.941997e+07  5.706477e+07  \n",
       "std        0.913207     13.037610  3.566891e+07  1.514632e+08  \n",
       "min        1.500000   1960.000000  0.000000e+00  0.000000e+00  \n",
       "25%        5.400000   1994.000000  0.000000e+00  0.000000e+00  \n",
       "50%        6.000000   2005.000000  3.179631e+05  0.000000e+00  \n",
       "75%        6.600000   2011.000000  2.467646e+07  4.312856e+07  \n",
       "max        8.700000   2015.000000  4.250000e+08  2.827124e+09  "
      ]
     },
     "execution_count": 15,
     "metadata": {},
     "output_type": "execute_result"
    }
   ],
   "source": [
    "df_movie.describe()"
   ]
  },
  {
   "cell_type": "markdown",
   "id": "43afa3ea",
   "metadata": {
    "id": "43afa3ea"
   },
   "source": [
    "##### -- we should drop the values of budget and revenue which are unrealistic\n",
    "###### -- A movie can not realistically have a budget being 0. Similarly having a revenue of 0 is unrealistic. We should therefore drop rows that the budget and revenue is 0.\n",
    "\n",
    "                                                     "
   ]
  },
  {
   "cell_type": "code",
   "execution_count": 16,
   "id": "8da29922",
   "metadata": {
    "id": "8da29922"
   },
   "outputs": [],
   "source": [
    "# Dropping the unrealistic budget  values\n",
    "df_movie.drop(df_movie[df_movie['budget'] == 0].index, inplace = True)"
   ]
  },
  {
   "cell_type": "code",
   "execution_count": 17,
   "id": "4c5d27f7",
   "metadata": {
    "id": "4c5d27f7"
   },
   "outputs": [],
   "source": [
    "# Dropping the unrealistic revenue values\n",
    "df_movie.drop(df_movie[df_movie['revenue'] == 0].index, inplace = True)"
   ]
  },
  {
   "cell_type": "code",
   "execution_count": 18,
   "id": "354fcde1",
   "metadata": {
    "colab": {
     "base_uri": "https://localhost:8080/"
    },
    "id": "354fcde1",
    "outputId": "077318f1-7435-4221-89e8-13e8fe8b268d"
   },
   "outputs": [
    {
     "data": {
      "text/plain": [
       "(3805, 15)"
      ]
     },
     "execution_count": 18,
     "metadata": {},
     "output_type": "execute_result"
    }
   ],
   "source": [
    "df_movie.shape"
   ]
  },
  {
   "cell_type": "markdown",
   "id": "ee6415e6",
   "metadata": {
    "id": "ee6415e6"
   },
   "source": [
    "##### -- Our clean dataframe has 3805 rows and 17 columns"
   ]
  },
  {
   "cell_type": "markdown",
   "id": "5b7e1e79",
   "metadata": {
    "id": "5b7e1e79"
   },
   "source": [
    "# Exploratory Data Analysis\n",
    "\n",
    "#### -- Our data is now clean and we can explore and create visualizations so as to answer the questions we have posed in the introduction."
   ]
  },
  {
   "cell_type": "markdown",
   "id": "b4822514",
   "metadata": {
    "id": "b4822514"
   },
   "source": [
    "# 1. How long do most movies last?\n",
    "\n",
    "##### The length of a movie is something movie lovers often consider before watching any movie. Acording to an article published by Rotten Tomatoes(https://editorial.rottentomatoes.com/article/longer-movies-are-better-according-to-the-tomatometer/), longer movies(runtime is more than 140 minuts) are better.\n",
    "##### After understanding how long movies last, we shall ask the question which movies are better rated between shorter and longer movies.\n",
    "\n",
    "###### According to imdb, a standard movie runs for 40 minutes. Is this the case for the movies being produced?"
   ]
  },
  {
   "cell_type": "code",
   "execution_count": 19,
   "id": "792e03a7",
   "metadata": {
    "colab": {
     "base_uri": "https://localhost:8080/",
     "height": 295
    },
    "id": "792e03a7",
    "outputId": "cb1a6624-752c-45d1-ee6d-cb3a536f708f"
   },
   "outputs": [
    {
     "data": {
      "image/png": "[encoded data removed]",
      "text/plain": [
       "<Figure size 432x288 with 1 Axes>"
      ]
     },
     "metadata": {
      "needs_background": "light"
     },
     "output_type": "display_data"
    }
   ],
   "source": [
    "# visualizing the runtime most movies have\n",
    "#df_movie_runtime= df_movie[df_movie['runtime'] > 140]\n",
    "\n",
    "plt.hist(df_movie['runtime'], range = (40,300), bins = 30)\n",
    "plt.title('Movie Runtimes')\n",
    "plt.xlabel(\"Minutes\")\n",
    "plt.ylabel(\"Number of Movies\")\n",
    "plt.show()"
   ]
  },
  {
   "cell_type": "markdown",
   "id": "d2d5b48d",
   "metadata": {
    "id": "d2d5b48d"
   },
   "source": [
    "##### The highest bar of the histogram is at 90 minutes. This means that most movies run for 90 minutes.\n"
   ]
  },
  {
   "cell_type": "markdown",
   "id": "6942bf5f",
   "metadata": {
    "id": "6942bf5f"
   },
   "source": [
    "##### We shall plot a boxplot so as to view the summary statistics of the runtime column \n",
    "##### and so as to see the extreme points in runtime(Outliers)"
   ]
  },
  {
   "cell_type": "code",
   "execution_count": 20,
   "id": "f50c46f1",
   "metadata": {
    "colab": {
     "base_uri": "https://localhost:8080/",
     "height": 267
    },
    "id": "f50c46f1",
    "outputId": "5c095bde-14b0-4eaf-9cf3-b067a51fc5c9"
   },
   "outputs": [
    {
     "data": {
      "image/png": "[encoded data removed]",
      "text/plain": [
       "<Figure size 432x288 with 1 Axes>"
      ]
     },
     "metadata": {
      "needs_background": "light"
     },
     "output_type": "display_data"
    }
   ],
   "source": [
    "plt.boxplot(df_movie['runtime']);"
   ]
  },
  {
   "cell_type": "markdown",
   "id": "483fbb6f",
   "metadata": {
    "id": "483fbb6f"
   },
   "source": [
    "#### From the boxplot above, we gather that :\n",
    "\n",
    "#### 1. 0.25 of the movies have a runtime of less than 95 minutes.\n",
    "#### 2. 0.5 of the movies have a runtime of less than 105 minutes.\n",
    "#### 3. 0.75 of the movies have a runtime of less than 120 minutes.\n",
    "#### 4. Outliers ( points on the extreme ends) are  present."
   ]
  },
  {
   "cell_type": "markdown",
   "id": "ff0babe6",
   "metadata": {
    "id": "ff0babe6"
   },
   "source": [
    "##### Summary statistics for runtime using the describe function so as to see the accurate values of the quartiles and the mean, min and max of runtime"
   ]
  },
  {
   "cell_type": "code",
   "execution_count": 21,
   "id": "61f32a5b",
   "metadata": {
    "colab": {
     "base_uri": "https://localhost:8080/"
    },
    "id": "61f32a5b",
    "outputId": "1f3064a4-0a62-4240-bb0a-e73f8f0a5ba3",
    "scrolled": true
   },
   "outputs": [
    {
     "data": {
      "text/plain": [
       "count    3805.000000\n",
       "mean      109.351117\n",
       "std        19.845678\n",
       "min        15.000000\n",
       "25%        96.000000\n",
       "50%       106.000000\n",
       "75%       119.000000\n",
       "max       338.000000\n",
       "Name: runtime, dtype: float64"
      ]
     },
     "execution_count": 21,
     "metadata": {},
     "output_type": "execute_result"
    }
   ],
   "source": [
    "df_movie['runtime'].describe()"
   ]
  },
  {
   "cell_type": "markdown",
   "id": "c641e73c",
   "metadata": {
    "id": "c641e73c"
   },
   "source": [
    "# 2. Are longer movies more popular or less popular?"
   ]
  },
  {
   "cell_type": "markdown",
   "id": "5c49a1cc",
   "metadata": {
    "id": "5c49a1cc"
   },
   "source": [
    "#### We shall split the dataset into 2 using the median runtime. \n",
    "#### Shorter movies will have a runtime of less than 100 minutes while longer movies will have a runtime longer than 100 minutes.\n",
    "#### We shall then groupby using popularity to see whether longer movies or shorter movies are preferred."
   ]
  },
  {
   "cell_type": "code",
   "execution_count": 22,
   "id": "efbe8383",
   "metadata": {
    "id": "efbe8383",
    "scrolled": true
   },
   "outputs": [],
   "source": [
    "# Extracting the movies that have a runtime greater than 100 minutes\n",
    "shorter_movies = df_movie.query('runtime > 100')\n",
    "\n",
    "# Extracting the movies that have a runtime greater than 100 minutes\n",
    "longer_movies = df_movie.query('runtime < 100')\n"
   ]
  },
  {
   "cell_type": "code",
   "execution_count": 23,
   "id": "767f909d",
   "metadata": {
    "colab": {
     "base_uri": "https://localhost:8080/"
    },
    "id": "767f909d",
    "outputId": "3e359426-7060-4938-c50c-92cc3346a5fe",
    "scrolled": true
   },
   "outputs": [
    {
     "data": {
      "text/plain": [
       "original_title\n",
       "10,000 BC                  1.841839\n",
       "101 Dalmatians             1.419885\n",
       "10th & Wolf                0.384988\n",
       "12 Rounds                  0.826039\n",
       "12 Years a Slave           3.625529\n",
       "                             ...   \n",
       "xXx                        1.936728\n",
       "xXx: State of the Union    1.405588\n",
       "Ð¡Ñ‚Ð°Ð»Ð¸Ð½Ð³Ñ€Ð°Ð´       0.010335\n",
       "ÐÐ´Ð¼Ð¸Ñ€Ð°Ð»ÑŠ            0.427023\n",
       "ã‚¢ãƒƒãƒ—ãƒ«ã‚·ãƒ¼ãƒ‰      0.845493\n",
       "Name: popularity, Length: 2321, dtype: float64"
      ]
     },
     "execution_count": 23,
     "metadata": {},
     "output_type": "execute_result"
    }
   ],
   "source": [
    "shorter_movies.groupby('original_title')['popularity'].mean()"
   ]
  },
  {
   "cell_type": "code",
   "execution_count": 24,
   "id": "79381d17",
   "metadata": {
    "colab": {
     "base_uri": "https://localhost:8080/"
    },
    "id": "79381d17",
    "outputId": "06b715ae-e97a-46d0-c49a-9c4be9fb7621"
   },
   "outputs": [
    {
     "data": {
      "text/plain": [
       "original_title\n",
       "(500) Days of Summer          3.244139\n",
       "10 Things I Hate About You    1.769152\n",
       "127 Hours                     2.440611\n",
       "13 Going On 30                1.497252\n",
       "2 Days in New York            0.383998\n",
       "                                ...   \n",
       "Zombieland                    2.041804\n",
       "Zoolander                     1.581446\n",
       "Zoom                          0.529881\n",
       "eXistenZ                      0.501242\n",
       "Ã†on Flux                     2.220063\n",
       "Name: popularity, Length: 1332, dtype: float64"
      ]
     },
     "execution_count": 24,
     "metadata": {},
     "output_type": "execute_result"
    }
   ],
   "source": [
    "longer_movies.groupby('original_title')['popularity'].mean()"
   ]
  },
  {
   "cell_type": "markdown",
   "id": "71a274f7",
   "metadata": {
    "id": "71a274f7"
   },
   "source": [
    "##### create scatterplot of runtime vs. popularity. The  scatter plot will help us understand the relationship between the runtime and the popularity of movies"
   ]
  },
  {
   "cell_type": "code",
   "execution_count": 25,
   "id": "6c8bfec0",
   "metadata": {
    "colab": {
     "base_uri": "https://localhost:8080/",
     "height": 313
    },
    "id": "6c8bfec0",
    "outputId": "9d6a47d1-3646-4ba3-fe00-0201c7df2fcf"
   },
   "outputs": [
    {
     "data": {
      "text/plain": [
       "Text(0, 0.5, 'popularity')"
      ]
     },
     "execution_count": 25,
     "metadata": {},
     "output_type": "execute_result"
    },
    {
     "data": {
      "image/png": "[encoded data removed]",
      "text/plain": [
       "<Figure size 432x288 with 1 Axes>"
      ]
     },
     "metadata": {
      "needs_background": "light"
     },
     "output_type": "display_data"
    }
   ],
   "source": [
    "plt.scatter(df_movie.runtime, df_movie.popularity)\n",
    "plt.title('Runtime vs Popularity')\n",
    "plt.xlabel('runtime in minutes')\n",
    "plt.ylabel('popularity')"
   ]
  },
  {
   "cell_type": "markdown",
   "id": "6935a3b5",
   "metadata": {
    "id": "6935a3b5"
   },
   "source": [
    "##### We plot a regplot so as to know the linear trend between runtime and popularity."
   ]
  },
  {
   "cell_type": "code",
   "execution_count": 58,
   "id": "51555d89",
   "metadata": {},
   "outputs": [],
   "source": [
    "'''\n",
    " This function plots the regplot and prints the correlation\n",
    " between the two variables passed as parameters\n",
    "'''\n",
    "\n",
    "def plot_regplot_and_generate_correlation(x, y, df):\n",
    "  sns.regplot(x=x, y=y, data=df, ci=None)\n",
    "  plt.title(f\"{x.capitalize()} against {y.capitalize()}\")\n",
    "  plt.show()\n",
    "\n",
    "  correlation = df[x].corr(df[y])\n",
    "  print(f\"The Correlation between {x.capitalize()} and {y.capitalize()} is {correlation}\")"
   ]
  },
  {
   "cell_type": "code",
   "execution_count": 62,
   "id": "4905c338",
   "metadata": {},
   "outputs": [
    {
     "data": {
      "image/png": "[encoded data removed]",
      "text/plain": [
       "<Figure size 432x288 with 1 Axes>"
      ]
     },
     "metadata": {
      "needs_background": "light"
     },
     "output_type": "display_data"
    },
    {
     "name": "stdout",
     "output_type": "stream",
     "text": [
      "The Correlation between Runtime and Popularity is 0.2136903062554136\n"
     ]
    }
   ],
   "source": [
    "plot_regplot_and_generate_correlation(\"runtime\", \"popularity\", df_movie)"
   ]
  },
  {
   "cell_type": "code",
   "execution_count": 27,
   "id": "97b032a7",
   "metadata": {
    "colab": {
     "base_uri": "https://localhost:8080/"
    },
    "id": "97b032a7",
    "outputId": "3556169a-1084-427a-8e86-b572bc47baf8"
   },
   "outputs": [
    {
     "data": {
      "text/plain": [
       "0.2136903062554136"
      ]
     },
     "execution_count": 27,
     "metadata": {},
     "output_type": "execute_result"
    }
   ],
   "source": [
    "# Calculating a correlation coefficient between runtime and popularity of movies.\n",
    "correlation = df_movie['runtime'].corr(df_movie['popularity'])\n",
    "correlation\n"
   ]
  },
  {
   "cell_type": "markdown",
   "id": "a5b0c1a9",
   "metadata": {
    "id": "a5b0c1a9"
   },
   "source": [
    "#### -- The correlation coefficient equals 0.2136903062554136. This is less than 0.5 thus showing that there is a weak relationship between runtime and popularity of movies."
   ]
  },
  {
   "cell_type": "markdown",
   "id": "c71557de",
   "metadata": {
    "id": "c71557de"
   },
   "source": [
    "### --Number of movies produced per year"
   ]
  },
  {
   "cell_type": "code",
   "execution_count": 28,
   "id": "d648185c",
   "metadata": {
    "colab": {
     "base_uri": "https://localhost:8080/",
     "height": 495
    },
    "id": "d648185c",
    "outputId": "40ea7eea-9a31-48cd-e4c5-28981c92f84b"
   },
   "outputs": [
    {
     "data": {
      "image/png": "[encoded data removed]",
      "text/plain": [
       "<Figure size 2160x1080 with 1 Axes>"
      ]
     },
     "metadata": {
      "needs_background": "light"
     },
     "output_type": "display_data"
    }
   ],
   "source": [
    "plt.figure(figsize=(30,15))\n",
    "sns.countplot(x = 'release_year', data= df_movie )\n",
    "plt.title('The number of movies released per year')\n",
    "plt.show;"
   ]
  },
  {
   "cell_type": "markdown",
   "id": "11d05476",
   "metadata": {
    "id": "11d05476"
   },
   "source": [
    "-- We can see that 2011 is the year when most movies were released."
   ]
  },
  {
   "cell_type": "markdown",
   "id": "f8cd9ffa",
   "metadata": {
    "id": "f8cd9ffa"
   },
   "source": [
    "# 3. which is the year with the highest movie revenue"
   ]
  },
  {
   "cell_type": "code",
   "execution_count": 29,
   "id": "edaaf04a",
   "metadata": {
    "colab": {
     "base_uri": "https://localhost:8080/",
     "height": 494
    },
    "id": "edaaf04a",
    "outputId": "df298f79-ed7a-4b66-d9cd-898fa01435c5"
   },
   "outputs": [
    {
     "data": {
      "image/png": "[encoded data removed]",
      "text/plain": [
       "<Figure size 2160x1080 with 1 Axes>"
      ]
     },
     "metadata": {
      "needs_background": "light"
     },
     "output_type": "display_data"
    }
   ],
   "source": [
    "plt.figure(figsize=(30,15))\n",
    "sns.barplot(x ='release_year', y = 'revenue', data = df_movie)\n",
    "plt.title(\"Revenue by years\")\n",
    "plt.show;"
   ]
  },
  {
   "cell_type": "markdown",
   "id": "f183d469",
   "metadata": {
    "id": "f183d469"
   },
   "source": [
    "-- Despite most movies being released in 2011, 2015 is the year when the highest movie revenues were generated.\n",
    "\n",
    "This could have been as a result of better production techniques, better marketing of the movies and better and more strategic distribution of the movies."
   ]
  },
  {
   "cell_type": "markdown",
   "id": "1221c498",
   "metadata": {
    "id": "1221c498"
   },
   "source": [
    "# 4.The top 10 highest budget movies"
   ]
  },
  {
   "cell_type": "code",
   "execution_count": 30,
   "id": "d07127a2",
   "metadata": {
    "colab": {
     "base_uri": "https://localhost:8080/",
     "height": 394
    },
    "id": "d07127a2",
    "outputId": "b9521983-24bf-47f4-fde6-05a4ecf05749"
   },
   "outputs": [
    {
     "data": {
      "text/html": [
       "<div>\n",
       "<style scoped>\n",
       "    .dataframe tbody tr th:only-of-type {\n",
       "        vertical-align: middle;\n",
       "    }\n",
       "\n",
       "    .dataframe tbody tr th {\n",
       "        vertical-align: top;\n",
       "    }\n",
       "\n",
       "    .dataframe thead th {\n",
       "        text-align: right;\n",
       "    }\n",
       "</style>\n",
       "<table border=\"1\" class=\"dataframe\">\n",
       "  <thead>\n",
       "    <tr style=\"text-align: right;\">\n",
       "      <th></th>\n",
       "      <th>budget</th>\n",
       "    </tr>\n",
       "    <tr>\n",
       "      <th>original_title</th>\n",
       "      <th></th>\n",
       "    </tr>\n",
       "  </thead>\n",
       "  <tbody>\n",
       "    <tr>\n",
       "      <th>The Warrior's Way</th>\n",
       "      <td>425000000</td>\n",
       "    </tr>\n",
       "    <tr>\n",
       "      <th>Pirates of the Caribbean: On Stranger Tides</th>\n",
       "      <td>380000000</td>\n",
       "    </tr>\n",
       "    <tr>\n",
       "      <th>Pirates of the Caribbean: At World's End</th>\n",
       "      <td>300000000</td>\n",
       "    </tr>\n",
       "    <tr>\n",
       "      <th>Avengers: Age of Ultron</th>\n",
       "      <td>280000000</td>\n",
       "    </tr>\n",
       "    <tr>\n",
       "      <th>Superman Returns</th>\n",
       "      <td>270000000</td>\n",
       "    </tr>\n",
       "    <tr>\n",
       "      <th>Tangled</th>\n",
       "      <td>260000000</td>\n",
       "    </tr>\n",
       "    <tr>\n",
       "      <th>John Carter</th>\n",
       "      <td>260000000</td>\n",
       "    </tr>\n",
       "    <tr>\n",
       "      <th>Spider-Man 3</th>\n",
       "      <td>258000000</td>\n",
       "    </tr>\n",
       "    <tr>\n",
       "      <th>The Lone Ranger</th>\n",
       "      <td>255000000</td>\n",
       "    </tr>\n",
       "    <tr>\n",
       "      <th>The Hobbit: The Battle of the Five Armies</th>\n",
       "      <td>250000000</td>\n",
       "    </tr>\n",
       "  </tbody>\n",
       "</table>\n",
       "</div>"
      ],
      "text/plain": [
       "                                                budget\n",
       "original_title                                        \n",
       "The Warrior's Way                            425000000\n",
       "Pirates of the Caribbean: On Stranger Tides  380000000\n",
       "Pirates of the Caribbean: At World's End     300000000\n",
       "Avengers: Age of Ultron                      280000000\n",
       "Superman Returns                             270000000\n",
       "Tangled                                      260000000\n",
       "John Carter                                  260000000\n",
       "Spider-Man 3                                 258000000\n",
       "The Lone Ranger                              255000000\n",
       "The Hobbit: The Battle of the Five Armies    250000000"
      ]
     },
     "execution_count": 30,
     "metadata": {},
     "output_type": "execute_result"
    }
   ],
   "source": [
    "top10_budget_movies = df_movie.nlargest(10, \"budget\")[['original_title', 'budget']].set_index('original_title')\n",
    "top10_budget_movies"
   ]
  },
  {
   "cell_type": "code",
   "execution_count": 76,
   "id": "OS7tTuhPt4ws",
   "metadata": {
    "id": "OS7tTuhPt4ws"
   },
   "outputs": [],
   "source": [
    "'''\n",
    "  This function tries to reduce the repetitiveness of getting the top largest\n",
    "  takes parameters\n",
    "  df specifies the Dataframe\n",
    "  column -> specifies the target column for which to use to get the top based on\n",
    "  n -> the top items needed\n",
    "  is_plot_barplot -> Bool value that specifies whether the function to generate a barplot or not,\n",
    "  if True it plots a barplot otherwise doesnt.\n",
    "'''\n",
    "\n",
    "def create_bar_plots(xlab, ylab, df, column, n=10, is_plot_barplot=False):\n",
    "  top_10 = df.nlargest(n, column)[['original_title', column]].set_index('original_title')\n",
    "  if is_plot_barplot:\n",
    "    sns.barplot(x=column, y=top_10.index, data=top_10)\n",
    "    plt.title(f\"Top {n} {column} movies\")\n",
    "    plt.xlabel(xlab)\n",
    "    plt.ylabel(ylab)\n",
    "    plt.show()\n",
    "  \n",
    "  return top_10"
   ]
  },
  {
   "cell_type": "code",
   "execution_count": 77,
   "id": "-cYKMaj4vIhl",
   "metadata": {
    "colab": {
     "base_uri": "https://localhost:8080/",
     "height": 295
    },
    "id": "-cYKMaj4vIhl",
    "outputId": "de61a2fb-5ed9-4b98-8bb1-e7dcccb05cca"
   },
   "outputs": [
    {
     "data": {
      "image/png": "[encoded data removed]",
      "text/plain": [
       "<Figure size 432x288 with 1 Axes>"
      ]
     },
     "metadata": {
      "needs_background": "light"
     },
     "output_type": "display_data"
    },
    {
     "data": {
      "text/html": [
       "<div>\n",
       "<style scoped>\n",
       "    .dataframe tbody tr th:only-of-type {\n",
       "        vertical-align: middle;\n",
       "    }\n",
       "\n",
       "    .dataframe tbody tr th {\n",
       "        vertical-align: top;\n",
       "    }\n",
       "\n",
       "    .dataframe thead th {\n",
       "        text-align: right;\n",
       "    }\n",
       "</style>\n",
       "<table border=\"1\" class=\"dataframe\">\n",
       "  <thead>\n",
       "    <tr style=\"text-align: right;\">\n",
       "      <th></th>\n",
       "      <th>budget</th>\n",
       "    </tr>\n",
       "    <tr>\n",
       "      <th>original_title</th>\n",
       "      <th></th>\n",
       "    </tr>\n",
       "  </thead>\n",
       "  <tbody>\n",
       "    <tr>\n",
       "      <th>The Warrior's Way</th>\n",
       "      <td>425000000</td>\n",
       "    </tr>\n",
       "    <tr>\n",
       "      <th>Pirates of the Caribbean: On Stranger Tides</th>\n",
       "      <td>380000000</td>\n",
       "    </tr>\n",
       "    <tr>\n",
       "      <th>Pirates of the Caribbean: At World's End</th>\n",
       "      <td>300000000</td>\n",
       "    </tr>\n",
       "    <tr>\n",
       "      <th>Avengers: Age of Ultron</th>\n",
       "      <td>280000000</td>\n",
       "    </tr>\n",
       "    <tr>\n",
       "      <th>Superman Returns</th>\n",
       "      <td>270000000</td>\n",
       "    </tr>\n",
       "    <tr>\n",
       "      <th>Tangled</th>\n",
       "      <td>260000000</td>\n",
       "    </tr>\n",
       "    <tr>\n",
       "      <th>John Carter</th>\n",
       "      <td>260000000</td>\n",
       "    </tr>\n",
       "    <tr>\n",
       "      <th>Spider-Man 3</th>\n",
       "      <td>258000000</td>\n",
       "    </tr>\n",
       "    <tr>\n",
       "      <th>The Lone Ranger</th>\n",
       "      <td>255000000</td>\n",
       "    </tr>\n",
       "    <tr>\n",
       "      <th>The Hobbit: The Battle of the Five Armies</th>\n",
       "      <td>250000000</td>\n",
       "    </tr>\n",
       "  </tbody>\n",
       "</table>\n",
       "</div>"
      ],
      "text/plain": [
       "                                                budget\n",
       "original_title                                        \n",
       "The Warrior's Way                            425000000\n",
       "Pirates of the Caribbean: On Stranger Tides  380000000\n",
       "Pirates of the Caribbean: At World's End     300000000\n",
       "Avengers: Age of Ultron                      280000000\n",
       "Superman Returns                             270000000\n",
       "Tangled                                      260000000\n",
       "John Carter                                  260000000\n",
       "Spider-Man 3                                 258000000\n",
       "The Lone Ranger                              255000000\n",
       "The Hobbit: The Battle of the Five Armies    250000000"
      ]
     },
     "execution_count": 77,
     "metadata": {},
     "output_type": "execute_result"
    }
   ],
   "source": [
    "create_bar_plots(xlab = \"Budget\", ylab= \"original_title\", df=df_movie, column=\"budget\", n=10, is_plot_barplot=True)"
   ]
  },
  {
   "cell_type": "markdown",
   "id": "401677ec",
   "metadata": {
    "id": "401677ec"
   },
   "source": [
    "# 5. The top 10 highest revenue movies"
   ]
  },
  {
   "cell_type": "code",
   "execution_count": 34,
   "id": "29b87f3a",
   "metadata": {
    "colab": {
     "base_uri": "https://localhost:8080/",
     "height": 394
    },
    "id": "29b87f3a",
    "outputId": "aca4b70c-a0ce-49f9-9fc0-bd2d89008654"
   },
   "outputs": [
    {
     "data": {
      "text/html": [
       "<div>\n",
       "<style scoped>\n",
       "    .dataframe tbody tr th:only-of-type {\n",
       "        vertical-align: middle;\n",
       "    }\n",
       "\n",
       "    .dataframe tbody tr th {\n",
       "        vertical-align: top;\n",
       "    }\n",
       "\n",
       "    .dataframe thead th {\n",
       "        text-align: right;\n",
       "    }\n",
       "</style>\n",
       "<table border=\"1\" class=\"dataframe\">\n",
       "  <thead>\n",
       "    <tr style=\"text-align: right;\">\n",
       "      <th></th>\n",
       "      <th>revenue</th>\n",
       "    </tr>\n",
       "    <tr>\n",
       "      <th>original_title</th>\n",
       "      <th></th>\n",
       "    </tr>\n",
       "  </thead>\n",
       "  <tbody>\n",
       "    <tr>\n",
       "      <th>Avatar</th>\n",
       "      <td>2781505847</td>\n",
       "    </tr>\n",
       "    <tr>\n",
       "      <th>Star Wars: The Force Awakens</th>\n",
       "      <td>2068178225</td>\n",
       "    </tr>\n",
       "    <tr>\n",
       "      <th>Titanic</th>\n",
       "      <td>1845034188</td>\n",
       "    </tr>\n",
       "    <tr>\n",
       "      <th>The Avengers</th>\n",
       "      <td>1519557910</td>\n",
       "    </tr>\n",
       "    <tr>\n",
       "      <th>Jurassic World</th>\n",
       "      <td>1513528810</td>\n",
       "    </tr>\n",
       "    <tr>\n",
       "      <th>Furious 7</th>\n",
       "      <td>1506249360</td>\n",
       "    </tr>\n",
       "    <tr>\n",
       "      <th>Avengers: Age of Ultron</th>\n",
       "      <td>1405035767</td>\n",
       "    </tr>\n",
       "    <tr>\n",
       "      <th>Harry Potter and the Deathly Hallows: Part 2</th>\n",
       "      <td>1327817822</td>\n",
       "    </tr>\n",
       "    <tr>\n",
       "      <th>Frozen</th>\n",
       "      <td>1274219009</td>\n",
       "    </tr>\n",
       "    <tr>\n",
       "      <th>Iron Man 3</th>\n",
       "      <td>1215439994</td>\n",
       "    </tr>\n",
       "  </tbody>\n",
       "</table>\n",
       "</div>"
      ],
      "text/plain": [
       "                                                 revenue\n",
       "original_title                                          \n",
       "Avatar                                        2781505847\n",
       "Star Wars: The Force Awakens                  2068178225\n",
       "Titanic                                       1845034188\n",
       "The Avengers                                  1519557910\n",
       "Jurassic World                                1513528810\n",
       "Furious 7                                     1506249360\n",
       "Avengers: Age of Ultron                       1405035767\n",
       "Harry Potter and the Deathly Hallows: Part 2  1327817822\n",
       "Frozen                                        1274219009\n",
       "Iron Man 3                                    1215439994"
      ]
     },
     "execution_count": 34,
     "metadata": {},
     "output_type": "execute_result"
    }
   ],
   "source": [
    "top10_revenue_movies = df_movie.nlargest(10, \"revenue\")[['original_title', 'revenue']].set_index('original_title')\n",
    "top10_revenue_movies"
   ]
  },
  {
   "cell_type": "code",
   "execution_count": 78,
   "id": "27a96a88",
   "metadata": {
    "colab": {
     "base_uri": "https://localhost:8080/",
     "height": 295
    },
    "id": "27a96a88",
    "outputId": "2a0fde6a-78e2-489e-87b5-ee334b693fdf"
   },
   "outputs": [
    {
     "data": {
      "image/png": "[encoded data removed]",
      "text/plain": [
       "<Figure size 432x288 with 1 Axes>"
      ]
     },
     "metadata": {
      "needs_background": "light"
     },
     "output_type": "display_data"
    },
    {
     "data": {
      "text/html": [
       "<div>\n",
       "<style scoped>\n",
       "    .dataframe tbody tr th:only-of-type {\n",
       "        vertical-align: middle;\n",
       "    }\n",
       "\n",
       "    .dataframe tbody tr th {\n",
       "        vertical-align: top;\n",
       "    }\n",
       "\n",
       "    .dataframe thead th {\n",
       "        text-align: right;\n",
       "    }\n",
       "</style>\n",
       "<table border=\"1\" class=\"dataframe\">\n",
       "  <thead>\n",
       "    <tr style=\"text-align: right;\">\n",
       "      <th></th>\n",
       "      <th>budget</th>\n",
       "    </tr>\n",
       "    <tr>\n",
       "      <th>original_title</th>\n",
       "      <th></th>\n",
       "    </tr>\n",
       "  </thead>\n",
       "  <tbody>\n",
       "    <tr>\n",
       "      <th>The Warrior's Way</th>\n",
       "      <td>425000000</td>\n",
       "    </tr>\n",
       "    <tr>\n",
       "      <th>Pirates of the Caribbean: On Stranger Tides</th>\n",
       "      <td>380000000</td>\n",
       "    </tr>\n",
       "    <tr>\n",
       "      <th>Pirates of the Caribbean: At World's End</th>\n",
       "      <td>300000000</td>\n",
       "    </tr>\n",
       "    <tr>\n",
       "      <th>Avengers: Age of Ultron</th>\n",
       "      <td>280000000</td>\n",
       "    </tr>\n",
       "    <tr>\n",
       "      <th>Superman Returns</th>\n",
       "      <td>270000000</td>\n",
       "    </tr>\n",
       "    <tr>\n",
       "      <th>Tangled</th>\n",
       "      <td>260000000</td>\n",
       "    </tr>\n",
       "    <tr>\n",
       "      <th>John Carter</th>\n",
       "      <td>260000000</td>\n",
       "    </tr>\n",
       "    <tr>\n",
       "      <th>Spider-Man 3</th>\n",
       "      <td>258000000</td>\n",
       "    </tr>\n",
       "    <tr>\n",
       "      <th>The Lone Ranger</th>\n",
       "      <td>255000000</td>\n",
       "    </tr>\n",
       "    <tr>\n",
       "      <th>The Hobbit: The Battle of the Five Armies</th>\n",
       "      <td>250000000</td>\n",
       "    </tr>\n",
       "  </tbody>\n",
       "</table>\n",
       "</div>"
      ],
      "text/plain": [
       "                                                budget\n",
       "original_title                                        \n",
       "The Warrior's Way                            425000000\n",
       "Pirates of the Caribbean: On Stranger Tides  380000000\n",
       "Pirates of the Caribbean: At World's End     300000000\n",
       "Avengers: Age of Ultron                      280000000\n",
       "Superman Returns                             270000000\n",
       "Tangled                                      260000000\n",
       "John Carter                                  260000000\n",
       "Spider-Man 3                                 258000000\n",
       "The Lone Ranger                              255000000\n",
       "The Hobbit: The Battle of the Five Armies    250000000"
      ]
     },
     "execution_count": 78,
     "metadata": {},
     "output_type": "execute_result"
    }
   ],
   "source": [
    "create_bar_plots(xlab = \"revenue\", ylab= \"original_title\", df=df_movie, column=\"budget\", n=10, is_plot_barplot=True)"
   ]
  },
  {
   "cell_type": "markdown",
   "id": "4c54ea90",
   "metadata": {
    "id": "4c54ea90"
   },
   "source": [
    "##### --Avatar is the movie that genearated the most revenue"
   ]
  },
  {
   "cell_type": "markdown",
   "id": "05b128a8",
   "metadata": {
    "id": "05b128a8"
   },
   "source": [
    "### -Average rating of movies per year"
   ]
  },
  {
   "cell_type": "code",
   "execution_count": 36,
   "id": "1d50898f",
   "metadata": {
    "colab": {
     "base_uri": "https://localhost:8080/"
    },
    "id": "1d50898f",
    "outputId": "562a6515-58bf-4686-bc1b-c9977c82afd5",
    "scrolled": true
   },
   "outputs": [
    {
     "data": {
      "text/plain": [
       "release_year\n",
       "2015    2.856943\n",
       "2014    2.523676\n",
       "2012    1.417230\n",
       "2013    1.403043\n",
       "1964    1.377790\n",
       "1975    1.369447\n",
       "1960    1.324513\n",
       "1977    1.267286\n",
       "1979    1.240415\n",
       "1994    1.234534\n",
       "2011    1.217316\n",
       "2003    1.203182\n",
       "1972    1.195410\n",
       "2010    1.184717\n",
       "2009    1.168051\n",
       "1969    1.152940\n",
       "2004    1.146454\n",
       "2008    1.119292\n",
       "2002    1.099752\n",
       "2001    1.082063\n",
       "1995    1.060945\n",
       "1965    1.054877\n",
       "1963    1.040612\n",
       "2007    1.030339\n",
       "1982    1.026134\n",
       "1989    1.024169\n",
       "2005    1.019083\n",
       "1973    1.006149\n",
       "1997    1.000009\n",
       "1980    0.986323\n",
       "1971    0.983619\n",
       "1962    0.983485\n",
       "2006    0.974851\n",
       "1999    0.957547\n",
       "1967    0.953848\n",
       "1998    0.945580\n",
       "1984    0.932410\n",
       "1996    0.922828\n",
       "1985    0.922242\n",
       "1974    0.915038\n",
       "1968    0.913463\n",
       "1992    0.889951\n",
       "1976    0.889930\n",
       "2000    0.857735\n",
       "1987    0.854185\n",
       "1990    0.848044\n",
       "1983    0.813301\n",
       "1993    0.796504\n",
       "1961    0.787718\n",
       "1991    0.785681\n",
       "1981    0.773135\n",
       "1978    0.759471\n",
       "1986    0.713404\n",
       "1988    0.687013\n",
       "1970    0.565886\n",
       "1966    0.395168\n",
       "Name: popularity, dtype: float64"
      ]
     },
     "execution_count": 36,
     "metadata": {},
     "output_type": "execute_result"
    }
   ],
   "source": [
    "df_movie.groupby('release_year')['popularity'].mean().sort_values(ascending = False)"
   ]
  },
  {
   "cell_type": "markdown",
   "id": "47fb61b2",
   "metadata": {
    "id": "47fb61b2"
   },
   "source": [
    "#####  -- Movies released in 2015 are more popular."
   ]
  },
  {
   "cell_type": "markdown",
   "id": "2ba526c1",
   "metadata": {
    "id": "2ba526c1"
   },
   "source": [
    "# 6.How does the popularity of the movie affect its revenue?"
   ]
  },
  {
   "cell_type": "markdown",
   "id": "419c7d1a",
   "metadata": {
    "id": "419c7d1a"
   },
   "source": [
    "##### we will plot the regplot of popularity and revenue and analyze the correlation."
   ]
  },
  {
   "cell_type": "code",
   "execution_count": 64,
   "id": "JdL3zecOyuWv",
   "metadata": {
    "colab": {
     "base_uri": "https://localhost:8080/",
     "height": 313
    },
    "id": "JdL3zecOyuWv",
    "outputId": "13ebf341-c141-46af-ed8d-91d8ca1d7973"
   },
   "outputs": [
    {
     "data": {
      "image/png": "[encoded data removed]",
      "text/plain": [
       "<Figure size 432x288 with 1 Axes>"
      ]
     },
     "metadata": {
      "needs_background": "light"
     },
     "output_type": "display_data"
    },
    {
     "name": "stdout",
     "output_type": "stream",
     "text": [
      "The Correlation between Revenue and Popularity is 0.6137927757114431\n"
     ]
    }
   ],
   "source": [
    "plot_regplot_and_generate_correlation(\"revenue\", \"popularity\", df_movie)"
   ]
  },
  {
   "cell_type": "markdown",
   "id": "ba40c0fd",
   "metadata": {
    "id": "ba40c0fd"
   },
   "source": [
    "##### -- From the regplot, we can see there is positive correlation between the popularity and revenue.\n",
    "##### -- This means that more popular movies also genearate a high amount of revenue."
   ]
  },
  {
   "cell_type": "markdown",
   "id": "137f5204",
   "metadata": {
    "id": "137f5204"
   },
   "source": [
    "##### ** We shall calculate the correlarion coefficient so as to how srong is the relationship between revenue and popularity"
   ]
  },
  {
   "cell_type": "code",
   "execution_count": 40,
   "id": "825b743a",
   "metadata": {
    "colab": {
     "base_uri": "https://localhost:8080/"
    },
    "id": "825b743a",
    "outputId": "8717cf70-a015-4ee4-97f0-d9a77c86e893"
   },
   "outputs": [
    {
     "data": {
      "text/plain": [
       "0.6137927757114431"
      ]
     },
     "execution_count": 40,
     "metadata": {},
     "output_type": "execute_result"
    }
   ],
   "source": [
    "correlation = df_movie['revenue'].corr(df_movie['popularity'])\n",
    "correlation"
   ]
  },
  {
   "cell_type": "markdown",
   "id": "fe2aaac3",
   "metadata": {
    "id": "fe2aaac3"
   },
   "source": [
    "#### -- The correlation coefficient equals 0.6137927757114431.\n",
    "#### --This is more than 0.5 thus showing that there is a strong correlation between revenue and popularity of movies."
   ]
  },
  {
   "cell_type": "markdown",
   "id": "5539aa91",
   "metadata": {
    "id": "5539aa91"
   },
   "source": [
    "# 7. Do high budget movies also generate a high revenue?"
   ]
  },
  {
   "cell_type": "markdown",
   "id": "9e207500",
   "metadata": {
    "id": "9e207500"
   },
   "source": [
    "#### -- We shall plot the reg plot between budget and revenue so that we can easily visualize the relationship between the budget and revenue.\n",
    "#### -- We shall then calculate the correlation coefficient so that we can understand how strong the relationship is."
   ]
  },
  {
   "cell_type": "markdown",
   "id": "ce26a11f",
   "metadata": {
    "id": "ce26a11f"
   },
   "source": [
    "#### --* The regplot shows a positive correlation between budget and revenue."
   ]
  },
  {
   "cell_type": "code",
   "execution_count": 65,
   "id": "9f34bfb6",
   "metadata": {},
   "outputs": [
    {
     "data": {
      "image/png": "[encoded data removed]",
      "text/plain": [
       "<Figure size 432x288 with 1 Axes>"
      ]
     },
     "metadata": {
      "needs_background": "light"
     },
     "output_type": "display_data"
    },
    {
     "name": "stdout",
     "output_type": "stream",
     "text": [
      "The Correlation between Budget and Revenue is 0.6870586165480226\n"
     ]
    }
   ],
   "source": [
    "plot_regplot_and_generate_correlation(\"budget\", \"revenue\", df_movie)"
   ]
  },
  {
   "cell_type": "code",
   "execution_count": 42,
   "id": "a71aafdf",
   "metadata": {
    "colab": {
     "base_uri": "https://localhost:8080/"
    },
    "id": "a71aafdf",
    "outputId": "9e042cd3-0e04-4aca-942a-e6c461d59962"
   },
   "outputs": [
    {
     "data": {
      "text/plain": [
       "0.6870586165480226"
      ]
     },
     "execution_count": 42,
     "metadata": {},
     "output_type": "execute_result"
    }
   ],
   "source": [
    "# calculating the correlation coeficient.\n",
    "\n",
    "correlation = df_movie['budget'].corr(df_movie['revenue'])\n",
    "correlation"
   ]
  },
  {
   "cell_type": "markdown",
   "id": "b4f908b7",
   "metadata": {
    "id": "b4f908b7"
   },
   "source": [
    "#### We shall calculate the correlation coefficient so as to know how stong the correlation between budget and revenue is "
   ]
  },
  {
   "cell_type": "markdown",
   "id": "cf7d92e8",
   "metadata": {
    "id": "cf7d92e8"
   },
   "source": [
    "#### --** The correlation coefficient equals 0.6870586165480226.\n",
    "#### --** This is more than 0.5 thus showing that there is a strong correlation between budget and revenue of movies."
   ]
  },
  {
   "cell_type": "markdown",
   "id": "0952ddb5",
   "metadata": {
    "id": "0952ddb5"
   },
   "source": [
    "# 8. What genres are most produced?"
   ]
  },
  {
   "cell_type": "markdown",
   "id": "300128df",
   "metadata": {
    "id": "300128df"
   },
   "source": [
    "##### --genres column has values separated by \"|\". We will need to split the values first."
   ]
  },
  {
   "cell_type": "code",
   "execution_count": 82,
   "id": "VqmSi8_M0Qs4",
   "metadata": {
    "id": "VqmSi8_M0Qs4"
   },
   "outputs": [],
   "source": [
    "\n",
    "'''\n",
    "Function that retrieves all genres in the genres column and plots all genres\n",
    "return 1D genres list\n",
    "'''\n",
    "\n",
    "def get_all_genres(df, plot_genres=True):\n",
    "  genres = []\n",
    "  for item in df['genres']:\n",
    "    genres.append(item.split(\"|\"))\n",
    "\n",
    "  # Convert the 2D list to 1D  list\n",
    "  genres_1D = []\n",
    "  for item in genres:\n",
    "    for genre_item in item:\n",
    "      genres_1D.append(genre_item)\n",
    "\n",
    "  # Create a dataframe and then plot the genres\n",
    "  if plot_genres:\n",
    "    df1 = pd.DataFrame.from_dict(Counter(genres_1D), orient=\"index\", columns=[\"Genres\"])\n",
    "    df1.plot.bar()\n",
    "\n",
    "  # return the ID genres_1D\n",
    "  return genres_1D"
   ]
  },
  {
   "cell_type": "code",
   "execution_count": 80,
   "id": "V3cUod2N2QgI",
   "metadata": {
    "colab": {
     "base_uri": "https://localhost:8080/",
     "height": 330
    },
    "id": "V3cUod2N2QgI",
    "outputId": "ff85e82f-9b2a-4581-b4f5-842c3308dea7"
   },
   "outputs": [
    {
     "data": {
      "image/png": "[encoded data removed]",
      "text/plain": [
       "<Figure size 432x288 with 1 Axes>"
      ]
     },
     "metadata": {
      "needs_background": "light"
     },
     "output_type": "display_data"
    }
   ],
   "source": [
    "genres = get_all_genres(df=df_movie)"
   ]
  },
  {
   "cell_type": "markdown",
   "id": "c7b4dcff",
   "metadata": {
    "id": "c7b4dcff"
   },
   "source": [
    "#### --Drama movies were the most produced movies."
   ]
  },
  {
   "cell_type": "markdown",
   "id": "6fccf0bf",
   "metadata": {
    "id": "6fccf0bf"
   },
   "source": [
    "# 9. Which combination of genres produces the highest revenue?"
   ]
  },
  {
   "cell_type": "code",
   "execution_count": 49,
   "id": "437348b0",
   "metadata": {
    "colab": {
     "base_uri": "https://localhost:8080/",
     "height": 394
    },
    "id": "437348b0",
    "outputId": "7756dfa1-102e-4e05-b024-87651524c0e4"
   },
   "outputs": [
    {
     "data": {
      "text/html": [
       "<div>\n",
       "<style scoped>\n",
       "    .dataframe tbody tr th:only-of-type {\n",
       "        vertical-align: middle;\n",
       "    }\n",
       "\n",
       "    .dataframe tbody tr th {\n",
       "        vertical-align: top;\n",
       "    }\n",
       "\n",
       "    .dataframe thead th {\n",
       "        text-align: right;\n",
       "    }\n",
       "</style>\n",
       "<table border=\"1\" class=\"dataframe\">\n",
       "  <thead>\n",
       "    <tr style=\"text-align: right;\">\n",
       "      <th></th>\n",
       "      <th>revenue</th>\n",
       "    </tr>\n",
       "    <tr>\n",
       "      <th>genres</th>\n",
       "      <th></th>\n",
       "    </tr>\n",
       "  </thead>\n",
       "  <tbody>\n",
       "    <tr>\n",
       "      <th>Action|Adventure|Fantasy|Science Fiction</th>\n",
       "      <td>2781505847</td>\n",
       "    </tr>\n",
       "    <tr>\n",
       "      <th>Action|Adventure|Science Fiction|Fantasy</th>\n",
       "      <td>2068178225</td>\n",
       "    </tr>\n",
       "    <tr>\n",
       "      <th>Drama|Romance|Thriller</th>\n",
       "      <td>1845034188</td>\n",
       "    </tr>\n",
       "    <tr>\n",
       "      <th>Science Fiction|Action|Adventure</th>\n",
       "      <td>1519557910</td>\n",
       "    </tr>\n",
       "    <tr>\n",
       "      <th>Action|Adventure|Science Fiction|Thriller</th>\n",
       "      <td>1513528810</td>\n",
       "    </tr>\n",
       "    <tr>\n",
       "      <th>Action|Crime|Thriller</th>\n",
       "      <td>1506249360</td>\n",
       "    </tr>\n",
       "    <tr>\n",
       "      <th>Action|Adventure|Science Fiction</th>\n",
       "      <td>1405035767</td>\n",
       "    </tr>\n",
       "    <tr>\n",
       "      <th>Adventure|Family|Fantasy</th>\n",
       "      <td>1327817822</td>\n",
       "    </tr>\n",
       "    <tr>\n",
       "      <th>Animation|Adventure|Family</th>\n",
       "      <td>1274219009</td>\n",
       "    </tr>\n",
       "    <tr>\n",
       "      <th>Action|Adventure|Science Fiction</th>\n",
       "      <td>1215439994</td>\n",
       "    </tr>\n",
       "  </tbody>\n",
       "</table>\n",
       "</div>"
      ],
      "text/plain": [
       "                                              revenue\n",
       "genres                                               \n",
       "Action|Adventure|Fantasy|Science Fiction   2781505847\n",
       "Action|Adventure|Science Fiction|Fantasy   2068178225\n",
       "Drama|Romance|Thriller                     1845034188\n",
       "Science Fiction|Action|Adventure           1519557910\n",
       "Action|Adventure|Science Fiction|Thriller  1513528810\n",
       "Action|Crime|Thriller                      1506249360\n",
       "Action|Adventure|Science Fiction           1405035767\n",
       "Adventure|Family|Fantasy                   1327817822\n",
       "Animation|Adventure|Family                 1274219009\n",
       "Action|Adventure|Science Fiction           1215439994"
      ]
     },
     "execution_count": 49,
     "metadata": {},
     "output_type": "execute_result"
    }
   ],
   "source": [
    "top10_revenue_genres = df_movie.nlargest(10, \"revenue\")[['genres', 'revenue']].set_index('genres')\n",
    "top10_revenue_genres"
   ]
  },
  {
   "cell_type": "code",
   "execution_count": 50,
   "id": "9111675e",
   "metadata": {
    "colab": {
     "base_uri": "https://localhost:8080/",
     "height": 295
    },
    "id": "9111675e",
    "outputId": "d8ea31c1-b972-46f5-f2da-0d49946560a0"
   },
   "outputs": [
    {
     "data": {
      "image/png": "[encoded data removed]",
      "text/plain": [
       "<Figure size 432x288 with 1 Axes>"
      ]
     },
     "metadata": {
      "needs_background": "light"
     },
     "output_type": "display_data"
    }
   ],
   "source": [
    "sns.barplot(x = 'revenue', y = top10_revenue_genres.index, data = top10_revenue_genres )\n",
    "plt.title(\"Top 10 revenue genres combinations\")\n",
    "plt.show();"
   ]
  },
  {
   "cell_type": "markdown",
   "id": "8a3e9ffe",
   "metadata": {
    "id": "8a3e9ffe"
   },
   "source": [
    "# 10. Which combination of genres is the most popular?"
   ]
  },
  {
   "cell_type": "code",
   "execution_count": 51,
   "id": "2802e982",
   "metadata": {
    "colab": {
     "base_uri": "https://localhost:8080/",
     "height": 394
    },
    "id": "2802e982",
    "outputId": "a72072f7-a7ea-43a0-f185-2ad73341c6f1"
   },
   "outputs": [
    {
     "data": {
      "text/html": [
       "<div>\n",
       "<style scoped>\n",
       "    .dataframe tbody tr th:only-of-type {\n",
       "        vertical-align: middle;\n",
       "    }\n",
       "\n",
       "    .dataframe tbody tr th {\n",
       "        vertical-align: top;\n",
       "    }\n",
       "\n",
       "    .dataframe thead th {\n",
       "        text-align: right;\n",
       "    }\n",
       "</style>\n",
       "<table border=\"1\" class=\"dataframe\">\n",
       "  <thead>\n",
       "    <tr style=\"text-align: right;\">\n",
       "      <th></th>\n",
       "      <th>popularity</th>\n",
       "    </tr>\n",
       "    <tr>\n",
       "      <th>genres</th>\n",
       "      <th></th>\n",
       "    </tr>\n",
       "  </thead>\n",
       "  <tbody>\n",
       "    <tr>\n",
       "      <th>Action|Adventure|Science Fiction|Thriller</th>\n",
       "      <td>32.985763</td>\n",
       "    </tr>\n",
       "    <tr>\n",
       "      <th>Action|Adventure|Science Fiction|Thriller</th>\n",
       "      <td>28.419936</td>\n",
       "    </tr>\n",
       "    <tr>\n",
       "      <th>Adventure|Drama|Science Fiction</th>\n",
       "      <td>24.949134</td>\n",
       "    </tr>\n",
       "    <tr>\n",
       "      <th>Action|Science Fiction|Adventure</th>\n",
       "      <td>14.311205</td>\n",
       "    </tr>\n",
       "    <tr>\n",
       "      <th>Adventure|Science Fiction|Thriller</th>\n",
       "      <td>13.112507</td>\n",
       "    </tr>\n",
       "    <tr>\n",
       "      <th>Action|Adventure|Science Fiction</th>\n",
       "      <td>12.971027</td>\n",
       "    </tr>\n",
       "    <tr>\n",
       "      <th>Adventure|Action|Science Fiction</th>\n",
       "      <td>12.037933</td>\n",
       "    </tr>\n",
       "    <tr>\n",
       "      <th>Action|Thriller</th>\n",
       "      <td>11.422751</td>\n",
       "    </tr>\n",
       "    <tr>\n",
       "      <th>Action|Adventure|Science Fiction|Fantasy</th>\n",
       "      <td>11.173104</td>\n",
       "    </tr>\n",
       "    <tr>\n",
       "      <th>Science Fiction|Adventure|Thriller</th>\n",
       "      <td>10.739009</td>\n",
       "    </tr>\n",
       "  </tbody>\n",
       "</table>\n",
       "</div>"
      ],
      "text/plain": [
       "                                           popularity\n",
       "genres                                               \n",
       "Action|Adventure|Science Fiction|Thriller   32.985763\n",
       "Action|Adventure|Science Fiction|Thriller   28.419936\n",
       "Adventure|Drama|Science Fiction             24.949134\n",
       "Action|Science Fiction|Adventure            14.311205\n",
       "Adventure|Science Fiction|Thriller          13.112507\n",
       "Action|Adventure|Science Fiction            12.971027\n",
       "Adventure|Action|Science Fiction            12.037933\n",
       "Action|Thriller                             11.422751\n",
       "Action|Adventure|Science Fiction|Fantasy    11.173104\n",
       "Science Fiction|Adventure|Thriller          10.739009"
      ]
     },
     "execution_count": 51,
     "metadata": {},
     "output_type": "execute_result"
    }
   ],
   "source": [
    "top10_popular_genres = df_movie.nlargest(10, \"popularity\")[['genres', 'popularity']].set_index('genres')\n",
    "top10_popular_genres"
   ]
  },
  {
   "cell_type": "code",
   "execution_count": 52,
   "id": "7c0ff313",
   "metadata": {
    "colab": {
     "base_uri": "https://localhost:8080/",
     "height": 313
    },
    "id": "7c0ff313",
    "outputId": "7f78eebd-2de3-4d78-99b3-8861bd54c09d"
   },
   "outputs": [
    {
     "data": {
      "image/png": "[encoded data removed]",
      "text/plain": [
       "<Figure size 432x288 with 1 Axes>"
      ]
     },
     "metadata": {
      "needs_background": "light"
     },
     "output_type": "display_data"
    }
   ],
   "source": [
    "sns.barplot(x = 'popularity', y = top10_popular_genres.index, data = top10_popular_genres )\n",
    "plt.title(\"Top 10 popular genres combinations\")\n",
    "plt.show();"
   ]
  },
  {
   "cell_type": "markdown",
   "id": "a3eb30ca",
   "metadata": {
    "id": "a3eb30ca"
   },
   "source": [
    "# CONCLUSION\n",
    "1. More popular moves generate more revenue. This is because the more popular a movie is, the more people will prefer watching it.  \n",
    "2. The runtime of a movie does not necessarily affect its popularity.\n",
    "3. High budget movies also generate high amount of revenue.\n",
    "4. Action|Adventure|Fantasy|Science Fiction\tis the highest combination genre revenue producer\n",
    "5. Action|Adventure|Science Fiction|Thriller is the most popular genre combination."
   ]
  },
  {
   "cell_type": "markdown",
   "id": "60150ede",
   "metadata": {
    "id": "60150ede"
   },
   "source": [
    "# ADVICE TO PRODUCTION COMPANIES\n",
    "1. Production companies should invest in production of movies as high budget movies also produce a high revenue.\n",
    "2. Production companies should invest in marketing and distribution of movies they produce as more popular movies generate more revenue.\n"
   ]
  },
  {
   "cell_type": "markdown",
   "id": "72176de4",
   "metadata": {
    "id": "72176de4"
   },
   "source": [
    "# DATA LIMITATIONS\n",
    "Our dataset was insufficient to draw conclusions from due to the following reasons:\n",
    "1. The dataset contained irrevant columns(columns that were unnecessary for the analysis)\n",
    "2. The dataset had many missing values. It also had many 0 values for columns such as revenue and budget which was unrealistic.After cleaning dataset, the data left was insufficient.\n",
    "3. The data is quite outdated. "
   ]
  },
  {
   "cell_type": "markdown",
   "id": "79e9d67c",
   "metadata": {
    "id": "79e9d67c"
   },
   "source": [
    "# REFERENCES\n",
    "1. pandas documentation (https://pandas.pydata.org/docs/user_guide/index.html)\n",
    "2. Matplotlib documentation (https://matplotlib.org/stable/tutorials/index)\n",
    "3. Pandas material available on kaggle.com (https://www.kaggle.com/learn/pandas)\n"
   ]
  }
 ],
 "metadata": {
  "colab": {
   "name": "Movie_project-2.ipynb",
   "provenance": []
  },
  "kernelspec": {
   "display_name": "Python [conda env:Udacity_Projects] *",
   "language": "python",
   "name": "conda-env-Udacity_Projects-py"
  },
  "language_info": {
   "codemirror_mode": {
    "name": "ipython",
    "version": 3
   },
   "file_extension": ".py",
   "mimetype": "text/x-python",
   "name": "python",
   "nbconvert_exporter": "python",
   "pygments_lexer": "ipython3",
   "version": "3.7.13"
  }
 },
 "nbformat": 4,
 "nbformat_minor": 5
}
